{
 "cells": [
  {
   "cell_type": "code",
   "execution_count": 1,
   "metadata": {},
   "outputs": [
    {
     "name": "stderr",
     "output_type": "stream",
     "text": [
      "Using TensorFlow backend.\n"
     ]
    },
    {
     "name": "stdout",
     "output_type": "stream",
     "text": [
      "Populating the interactive namespace from numpy and matplotlib\n"
     ]
    }
   ],
   "source": [
    "import time\n",
    "\n",
    "import flickrama as F\n",
    "import gan\n",
    "\n",
    "%pylab inline\n",
    "%load_ext autoreload\n",
    "%autoreload 2"
   ]
  },
  {
   "cell_type": "code",
   "execution_count": 2,
   "metadata": {},
   "outputs": [],
   "source": [
    "wgan = gan.WGAN(batch_size=200)\n",
    "wgan.setup(image_size=(28,28,1))"
   ]
  },
  {
   "cell_type": "code",
   "execution_count": 3,
   "metadata": {},
   "outputs": [],
   "source": [
    "data = F.Data('boston skyline', size=(74,74), flickr_size='Square', batch_size=100, grayscale=True, normalize=True, expand=True, downsample=True)"
   ]
  },
  {
   "cell_type": "code",
   "execution_count": 4,
   "metadata": {
    "scrolled": false
   },
   "outputs": [
    {
     "name": "stdout",
     "output_type": "stream",
     "text": [
      "using page 1\n",
      "using page 2\n",
      "using page 3\n",
      "using page 4\n",
      "using page 5\n",
      "0 [D loss: 0.999950] [G loss: 1.000105]\n",
      "using page 1\n",
      "use cache at least once\n",
      "using page 1\n",
      "use cache at least once\n",
      "using page 1\n",
      "use cache at least once\n",
      "using page 1\n",
      "use cache at least once\n",
      "using page 1\n",
      "use cache at least once\n",
      "1 [D loss: 0.999965] [G loss: 1.000103]\n",
      "using page 2\n",
      "use cache at least once\n",
      "using page 2\n",
      "use cache at least once\n",
      "using page 2\n",
      "use cache at least once\n",
      "using page 2\n",
      "use cache at least once\n",
      "using page 2\n",
      "use cache at least once\n",
      "2 [D loss: 0.999968] [G loss: 1.000101]\n",
      "using page 3\n",
      "use cache at least once\n",
      "using page 3\n",
      "use cache at least once\n",
      "using page 3\n",
      "use cache at least once\n",
      "using page 3\n",
      "use cache at least once\n",
      "using page 3\n",
      "use cache at least once\n",
      "3 [D loss: 0.999964] [G loss: 1.000101]\n",
      "using page 4\n",
      "use cache at least once\n",
      "using page 4\n",
      "use cache at least once\n",
      "using page 4\n",
      "use cache at least once\n",
      "using page 4\n",
      "use cache at least once\n",
      "using page 4\n",
      "use cache at least once\n",
      "4 [D loss: 0.999967] [G loss: 1.000102]\n",
      "using page 5\n",
      "use cache at least once\n",
      "using page 5\n",
      "use cache at least once\n",
      "using page 5\n",
      "use cache at least once\n",
      "using page 5\n",
      "use cache at least once\n",
      "using page 5\n",
      "use cache at least once\n",
      "5 [D loss: 0.999967] [G loss: 1.000105]\n",
      "using page 6\n",
      "using page 6\n",
      "use cache at least once\n",
      "using page 6\n",
      "use cache at least once\n",
      "using page 6\n",
      "use cache at least once\n",
      "using page 6\n",
      "use cache at least once\n",
      "6 [D loss: 0.999972] [G loss: 1.000103]\n",
      "using page 7\n",
      "using page 7\n",
      "use cache at least once\n",
      "using page 7\n",
      "use cache at least once\n",
      "using page 7\n",
      "use cache at least once\n",
      "using page 7\n",
      "use cache at least once\n",
      "7 [D loss: 0.999968] [G loss: 1.000107]\n",
      "using page 8\n",
      "using page 8\n",
      "use cache at least once\n",
      "using page 8\n",
      "use cache at least once\n",
      "using page 8\n",
      "use cache at least once\n",
      "using page 8\n",
      "use cache at least once\n",
      "8 [D loss: 0.999970] [G loss: 1.000110]\n",
      "using page 9\n",
      "using page 9\n",
      "use cache at least once\n",
      "using page 9\n",
      "use cache at least once\n",
      "using page 9\n",
      "use cache at least once\n",
      "using page 9\n",
      "use cache at least once\n",
      "9 [D loss: 0.999967] [G loss: 1.000108]\n",
      "using page 10\n",
      "using page 10\n",
      "use cache at least once\n",
      "using page 10\n",
      "use cache at least once\n",
      "using page 10\n",
      "use cache at least once\n",
      "using page 10\n",
      "use cache at least once\n",
      "10 [D loss: 0.999975] [G loss: 1.000100]\n",
      "using page 11\n",
      "using page 11\n",
      "use cache at least once\n",
      "using page 11\n",
      "use cache at least once\n",
      "using page 11\n",
      "use cache at least once\n",
      "using page 11\n",
      "use cache at least once\n",
      "11 [D loss: 0.999979] [G loss: 1.000108]\n",
      "using page 12\n",
      "using page 12\n",
      "use cache at least once\n",
      "using page 12\n",
      "use cache at least once\n",
      "using page 12\n",
      "use cache at least once\n",
      "using page 12\n",
      "use cache at least once\n",
      "12 [D loss: 0.999980] [G loss: 1.000102]\n",
      "using page 13\n",
      "using page 13\n",
      "use cache at least once\n",
      "using page 13\n",
      "use cache at least once\n",
      "using page 13\n",
      "use cache at least once\n",
      "using page 13\n",
      "use cache at least once\n",
      "13 [D loss: 0.999989] [G loss: 1.000095]\n",
      "using page 14\n",
      "use cache at least once\n",
      "using page 14\n",
      "use cache at least once\n",
      "using page 14\n",
      "use cache at least once\n",
      "using page 14\n",
      "use cache at least once\n",
      "using page 14\n",
      "use cache at least once\n",
      "14 [D loss: 1.000010] [G loss: 1.000091]\n",
      "using page 15\n",
      "using page 15\n",
      "use cache at least once\n",
      "using page 15\n",
      "use cache at least once\n",
      "using page 15\n",
      "use cache at least once\n",
      "using page 15\n",
      "use cache at least once\n",
      "15 [D loss: 1.000017] [G loss: 1.000085]\n",
      "using page 16\n",
      "using page 16\n",
      "use cache at least once\n",
      "using page 16\n",
      "use cache at least once\n",
      "using page 16\n",
      "use cache at least once\n",
      "using page 16\n",
      "use cache at least once\n",
      "16 [D loss: 1.000059] [G loss: 1.000078]\n",
      "using page 17\n",
      "using page 17\n",
      "use cache at least once\n",
      "using page 17\n",
      "use cache at least once\n",
      "using page 17\n",
      "use cache at least once\n",
      "using page 17\n",
      "use cache at least once\n",
      "17 [D loss: 1.000127] [G loss: 1.000046]\n",
      "using page 18\n",
      "using page 18\n",
      "use cache at least once\n",
      "using page 18\n",
      "use cache at least once\n",
      "using page 18\n",
      "use cache at least once\n",
      "using page 18\n",
      "use cache at least once\n",
      "18 [D loss: 1.000204] [G loss: 1.000018]\n",
      "using page 19\n",
      "using page 19\n",
      "use cache at least once\n",
      "using page 19\n",
      "use cache at least once\n",
      "using page 19\n",
      "use cache at least once\n",
      "using page 19\n",
      "use cache at least once\n",
      "19 [D loss: 1.000276] [G loss: 0.999984]\n",
      "using page 20\n",
      "using page 20\n",
      "use cache at least once\n",
      "using page 20\n",
      "use cache at least once\n",
      "using page 20\n",
      "use cache at least once\n",
      "using page 20\n",
      "use cache at least once\n",
      "20 [D loss: 1.000391] [G loss: 0.999950]\n",
      "using page 21\n",
      "using page 21\n",
      "use cache at least once\n",
      "using page 21\n",
      "use cache at least once\n",
      "using page 21\n",
      "use cache at least once\n",
      "using page 21\n",
      "use cache at least once\n",
      "21 [D loss: 1.000532] [G loss: 0.999903]\n",
      "using page 22\n",
      "using page 22\n",
      "use cache at least once\n",
      "using page 22\n",
      "use cache at least once\n",
      "using page 22\n",
      "use cache at least once\n",
      "using page 22\n",
      "use cache at least once\n",
      "22 [D loss: 1.000772] [G loss: 0.999842]\n",
      "using page 23\n",
      "using page 23\n",
      "use cache at least once\n",
      "using page 23\n",
      "use cache at least once\n",
      "using page 23\n",
      "use cache at least once\n",
      "using page 23\n",
      "use cache at least once\n",
      "23 [D loss: 1.000955] [G loss: 0.999760]\n",
      "using page 24\n"
     ]
    },
    {
     "ename": "FlickrError",
     "evalue": "",
     "output_type": "error",
     "traceback": [
      "\u001b[0;31m---------------------------------------------------------------------------\u001b[0m",
      "\u001b[0;31mFlickrError\u001b[0m                               Traceback (most recent call last)",
      "\u001b[0;32m<ipython-input-4-ca1842563ad4>\u001b[0m in \u001b[0;36m<module>\u001b[0;34m()\u001b[0m\n\u001b[0;32m----> 1\u001b[0;31m \u001b[0mwgan\u001b[0m\u001b[0;34m.\u001b[0m\u001b[0mtrain_from_generator\u001b[0m\u001b[0;34m(\u001b[0m\u001b[0mdata\u001b[0m\u001b[0;34m)\u001b[0m\u001b[0;34m\u001b[0m\u001b[0m\n\u001b[0m",
      "\u001b[0;32m/home/d/Projects/ILYBOS/gan/wgan.py\u001b[0m in \u001b[0;36mtrain_from_generator\u001b[0;34m(self, generator)\u001b[0m\n\u001b[1;32m     82\u001b[0m         \u001b[0;31m# ---------------------\u001b[0m\u001b[0;34m\u001b[0m\u001b[0;34m\u001b[0m\u001b[0m\n\u001b[1;32m     83\u001b[0m \u001b[0;34m\u001b[0m\u001b[0m\n\u001b[0;32m---> 84\u001b[0;31m         \u001b[0mimgs\u001b[0m \u001b[0;34m=\u001b[0m \u001b[0mnp\u001b[0m\u001b[0;34m.\u001b[0m\u001b[0mrandom\u001b[0m\u001b[0;34m.\u001b[0m\u001b[0mpermutation\u001b[0m\u001b[0;34m(\u001b[0m\u001b[0mgenerator\u001b[0m\u001b[0;34m.\u001b[0m\u001b[0mnext\u001b[0m\u001b[0;34m(\u001b[0m\u001b[0mepoch\u001b[0m\u001b[0;34m)\u001b[0m\u001b[0;34m)\u001b[0m\u001b[0;34m\u001b[0m\u001b[0m\n\u001b[0m\u001b[1;32m     85\u001b[0m \u001b[0;34m\u001b[0m\u001b[0m\n\u001b[1;32m     86\u001b[0m         \u001b[0mhalf_batch\u001b[0m \u001b[0;34m=\u001b[0m \u001b[0mlen\u001b[0m\u001b[0;34m(\u001b[0m\u001b[0mimgs\u001b[0m\u001b[0;34m)\u001b[0m\u001b[0;34m\u001b[0m\u001b[0m\n",
      "\u001b[0;32m/home/d/Projects/ILYBOS/flickrama/data.pyc\u001b[0m in \u001b[0;36mnext\u001b[0;34m(self, page)\u001b[0m\n\u001b[1;32m     73\u001b[0m       \u001b[0;32melse\u001b[0m\u001b[0;34m:\u001b[0m\u001b[0;34m\u001b[0m\u001b[0m\n\u001b[1;32m     74\u001b[0m \u001b[0;34m\u001b[0m\u001b[0m\n\u001b[0;32m---> 75\u001b[0;31m         \u001b[0murl\u001b[0m \u001b[0;34m=\u001b[0m \u001b[0mp\u001b[0m\u001b[0;34m.\u001b[0m\u001b[0mgetSizes\u001b[0m\u001b[0;34m(\u001b[0m\u001b[0;34m)\u001b[0m\u001b[0;34m[\u001b[0m\u001b[0mself\u001b[0m\u001b[0;34m.\u001b[0m\u001b[0m_flickr_size\u001b[0m\u001b[0;34m]\u001b[0m\u001b[0;34m[\u001b[0m\u001b[0;34m'source'\u001b[0m\u001b[0;34m]\u001b[0m\u001b[0;34m\u001b[0m\u001b[0m\n\u001b[0m\u001b[1;32m     76\u001b[0m         \u001b[0mimg\u001b[0m \u001b[0;34m=\u001b[0m \u001b[0murllib2\u001b[0m\u001b[0;34m.\u001b[0m\u001b[0murlopen\u001b[0m\u001b[0;34m(\u001b[0m\u001b[0murl\u001b[0m\u001b[0;34m)\u001b[0m\u001b[0;34m.\u001b[0m\u001b[0mread\u001b[0m\u001b[0;34m(\u001b[0m\u001b[0;34m)\u001b[0m\u001b[0;34m\u001b[0m\u001b[0m\n\u001b[1;32m     77\u001b[0m         \u001b[0mimg\u001b[0m \u001b[0;34m=\u001b[0m \u001b[0mimageio\u001b[0m\u001b[0;34m.\u001b[0m\u001b[0mimread\u001b[0m\u001b[0;34m(\u001b[0m\u001b[0mimg\u001b[0m\u001b[0;34m)\u001b[0m\u001b[0;34m\u001b[0m\u001b[0m\n",
      "\u001b[0;32m/home/d/anaconda2/envs/KERAS/lib/python2.7/site-packages/flickr_api/objects.pyc\u001b[0m in \u001b[0;36mgetSizes\u001b[0;34m(self, **args)\u001b[0m\n\u001b[1;32m   1205\u001b[0m     \u001b[0;32mdef\u001b[0m \u001b[0mgetSizes\u001b[0m\u001b[0;34m(\u001b[0m\u001b[0mself\u001b[0m\u001b[0;34m,\u001b[0m \u001b[0;34m**\u001b[0m\u001b[0margs\u001b[0m\u001b[0;34m)\u001b[0m\u001b[0;34m:\u001b[0m\u001b[0;34m\u001b[0m\u001b[0m\n\u001b[1;32m   1206\u001b[0m         \u001b[0;32mif\u001b[0m \u001b[0;34m\"sizes\"\u001b[0m \u001b[0;32mnot\u001b[0m \u001b[0;32min\u001b[0m \u001b[0mself\u001b[0m\u001b[0;34m.\u001b[0m\u001b[0m__dict__\u001b[0m\u001b[0;34m:\u001b[0m\u001b[0;34m\u001b[0m\u001b[0m\n\u001b[0;32m-> 1207\u001b[0;31m             \u001b[0mself\u001b[0m\u001b[0;34m.\u001b[0m\u001b[0m__dict__\u001b[0m\u001b[0;34m[\u001b[0m\u001b[0;34m\"sizes\"\u001b[0m\u001b[0;34m]\u001b[0m \u001b[0;34m=\u001b[0m \u001b[0mself\u001b[0m\u001b[0;34m.\u001b[0m\u001b[0m_getSizes\u001b[0m\u001b[0;34m(\u001b[0m\u001b[0;34m**\u001b[0m\u001b[0margs\u001b[0m\u001b[0;34m)\u001b[0m\u001b[0;34m\u001b[0m\u001b[0m\n\u001b[0m\u001b[1;32m   1208\u001b[0m         \u001b[0;32mreturn\u001b[0m \u001b[0mself\u001b[0m\u001b[0;34m.\u001b[0m\u001b[0msizes\u001b[0m\u001b[0;34m\u001b[0m\u001b[0m\n\u001b[1;32m   1209\u001b[0m \u001b[0;34m\u001b[0m\u001b[0m\n",
      "\u001b[0;32m/home/d/anaconda2/envs/KERAS/lib/python2.7/site-packages/flickr_api/reflection.pyc\u001b[0m in \u001b[0;36mcall\u001b[0;34m(self, *args, **kwargs)\u001b[0m\n\u001b[1;32m    249\u001b[0m             \u001b[0;32mif\u001b[0m \u001b[0mtoken\u001b[0m\u001b[0;34m:\u001b[0m\u001b[0;34m\u001b[0m\u001b[0m\n\u001b[1;32m    250\u001b[0m                 \u001b[0mmethod_args\u001b[0m\u001b[0;34m[\u001b[0m\u001b[0;34m\"auth_handler\"\u001b[0m\u001b[0;34m]\u001b[0m \u001b[0;34m=\u001b[0m \u001b[0mtoken\u001b[0m\u001b[0;34m\u001b[0m\u001b[0m\n\u001b[0;32m--> 251\u001b[0;31m             \u001b[0mr\u001b[0m \u001b[0;34m=\u001b[0m \u001b[0mmethod_call\u001b[0m\u001b[0;34m.\u001b[0m\u001b[0mcall_api\u001b[0m\u001b[0;34m(\u001b[0m\u001b[0mmethod\u001b[0m\u001b[0;34m=\u001b[0m\u001b[0mflickr_method\u001b[0m\u001b[0;34m,\u001b[0m \u001b[0;34m**\u001b[0m\u001b[0mmethod_args\u001b[0m\u001b[0;34m)\u001b[0m\u001b[0;34m\u001b[0m\u001b[0m\n\u001b[0m\u001b[1;32m    252\u001b[0m             \u001b[0;32mtry\u001b[0m\u001b[0;34m:\u001b[0m\u001b[0;34m\u001b[0m\u001b[0m\n\u001b[1;32m    253\u001b[0m                 \u001b[0;32mreturn\u001b[0m \u001b[0mformat_result\u001b[0m\u001b[0;34m(\u001b[0m\u001b[0mr\u001b[0m\u001b[0;34m,\u001b[0m \u001b[0mtoken\u001b[0m\u001b[0;34m)\u001b[0m\u001b[0;34m\u001b[0m\u001b[0m\n",
      "\u001b[0;32m/home/d/anaconda2/envs/KERAS/lib/python2.7/site-packages/flickr_api/method_call.pyc\u001b[0m in \u001b[0;36mcall_api\u001b[0;34m(api_key, api_secret, auth_handler, needssigning, request_url, raw, **args)\u001b[0m\n\u001b[1;32m    116\u001b[0m \u001b[0;34m\u001b[0m\u001b[0m\n\u001b[1;32m    117\u001b[0m     \u001b[0;32mif\u001b[0m \u001b[0mCACHE\u001b[0m \u001b[0;32mis\u001b[0m \u001b[0mNone\u001b[0m\u001b[0;34m:\u001b[0m\u001b[0;34m\u001b[0m\u001b[0m\n\u001b[0;32m--> 118\u001b[0;31m         \u001b[0mresp\u001b[0m \u001b[0;34m=\u001b[0m \u001b[0msend_request\u001b[0m\u001b[0;34m(\u001b[0m\u001b[0mrequest_url\u001b[0m\u001b[0;34m,\u001b[0m \u001b[0mdata\u001b[0m\u001b[0;34m)\u001b[0m\u001b[0;34m\u001b[0m\u001b[0m\n\u001b[0m\u001b[1;32m    119\u001b[0m     \u001b[0;32melse\u001b[0m\u001b[0;34m:\u001b[0m\u001b[0;34m\u001b[0m\u001b[0m\n\u001b[1;32m    120\u001b[0m         \u001b[0mresp\u001b[0m \u001b[0;34m=\u001b[0m \u001b[0mCACHE\u001b[0m\u001b[0;34m.\u001b[0m\u001b[0mget\u001b[0m\u001b[0;34m(\u001b[0m\u001b[0mdata\u001b[0m\u001b[0;34m)\u001b[0m \u001b[0;32mor\u001b[0m \u001b[0msend_request\u001b[0m\u001b[0;34m(\u001b[0m\u001b[0mrequest_url\u001b[0m\u001b[0;34m,\u001b[0m \u001b[0mdata\u001b[0m\u001b[0;34m)\u001b[0m\u001b[0;34m\u001b[0m\u001b[0m\n",
      "\u001b[0;32m/home/d/anaconda2/envs/KERAS/lib/python2.7/site-packages/flickr_api/method_call.pyc\u001b[0m in \u001b[0;36msend_request\u001b[0;34m(url, data)\u001b[0m\n\u001b[1;32m     49\u001b[0m         \u001b[0;32mreturn\u001b[0m \u001b[0murllib2\u001b[0m\u001b[0;34m.\u001b[0m\u001b[0murlopen\u001b[0m\u001b[0;34m(\u001b[0m\u001b[0mreq\u001b[0m\u001b[0;34m)\u001b[0m\u001b[0;34m.\u001b[0m\u001b[0mread\u001b[0m\u001b[0;34m(\u001b[0m\u001b[0;34m)\u001b[0m\u001b[0;34m\u001b[0m\u001b[0m\n\u001b[1;32m     50\u001b[0m     \u001b[0;32mexcept\u001b[0m \u001b[0murllib2\u001b[0m\u001b[0;34m.\u001b[0m\u001b[0mHTTPError\u001b[0m\u001b[0;34m,\u001b[0m \u001b[0me\u001b[0m\u001b[0;34m:\u001b[0m\u001b[0;34m\u001b[0m\u001b[0m\n\u001b[0;32m---> 51\u001b[0;31m         \u001b[0;32mraise\u001b[0m \u001b[0mFlickrError\u001b[0m\u001b[0;34m(\u001b[0m\u001b[0me\u001b[0m\u001b[0;34m.\u001b[0m\u001b[0mread\u001b[0m\u001b[0;34m(\u001b[0m\u001b[0;34m)\u001b[0m\u001b[0;34m.\u001b[0m\u001b[0msplit\u001b[0m\u001b[0;34m(\u001b[0m\u001b[0;34m'&'\u001b[0m\u001b[0;34m)\u001b[0m\u001b[0;34m[\u001b[0m\u001b[0;36m0\u001b[0m\u001b[0;34m]\u001b[0m\u001b[0;34m)\u001b[0m\u001b[0;34m\u001b[0m\u001b[0m\n\u001b[0m\u001b[1;32m     52\u001b[0m \u001b[0;34m\u001b[0m\u001b[0m\n\u001b[1;32m     53\u001b[0m \u001b[0;34m\u001b[0m\u001b[0m\n",
      "\u001b[0;31mFlickrError\u001b[0m: "
     ]
    }
   ],
   "source": [
    "wgan.train_from_flickrama(data)"
   ]
  },
  {
   "cell_type": "code",
   "execution_count": null,
   "metadata": {
    "collapsed": true
   },
   "outputs": [],
   "source": []
  },
  {
   "cell_type": "code",
   "execution_count": null,
   "metadata": {
    "collapsed": true
   },
   "outputs": [],
   "source": []
  },
  {
   "cell_type": "code",
   "execution_count": null,
   "metadata": {
    "collapsed": true
   },
   "outputs": [],
   "source": []
  },
  {
   "cell_type": "code",
   "execution_count": 16,
   "metadata": {},
   "outputs": [],
   "source": [
    "a= np.random.normal(0,1, (10,100))"
   ]
  },
  {
   "cell_type": "code",
   "execution_count": 17,
   "metadata": {},
   "outputs": [],
   "source": [
    "b=wgan._generator.N.predict(a)"
   ]
  },
  {
   "cell_type": "code",
   "execution_count": 18,
   "metadata": {},
   "outputs": [
    {
     "data": {
      "text/plain": [
       "(10, 28, 28, 1)"
      ]
     },
     "execution_count": 18,
     "metadata": {},
     "output_type": "execute_result"
    }
   ],
   "source": [
    "b.shape"
   ]
  },
  {
   "cell_type": "code",
   "execution_count": 19,
   "metadata": {},
   "outputs": [
    {
     "data": {
      "text/plain": [
       "784"
      ]
     },
     "execution_count": 19,
     "metadata": {},
     "output_type": "execute_result"
    }
   ],
   "source": [
    "28*28"
   ]
  },
  {
   "cell_type": "code",
   "execution_count": 20,
   "metadata": {},
   "outputs": [
    {
     "data": {
      "text/plain": [
       "6272"
      ]
     },
     "execution_count": 20,
     "metadata": {},
     "output_type": "execute_result"
    }
   ],
   "source": [
    "128*7*7"
   ]
  },
  {
   "cell_type": "code",
   "execution_count": 22,
   "metadata": {},
   "outputs": [
    {
     "data": {
      "text/plain": [
       "98"
      ]
     },
     "execution_count": 22,
     "metadata": {},
     "output_type": "execute_result"
    }
   ],
   "source": [
    "6272 / 64"
   ]
  },
  {
   "cell_type": "code",
   "execution_count": null,
   "metadata": {
    "collapsed": true
   },
   "outputs": [],
   "source": []
  }
 ],
 "metadata": {
  "kernelspec": {
   "display_name": "Python 2",
   "language": "python",
   "name": "python2"
  },
  "language_info": {
   "codemirror_mode": {
    "name": "ipython",
    "version": 2
   },
   "file_extension": ".py",
   "mimetype": "text/x-python",
   "name": "python",
   "nbconvert_exporter": "python",
   "pygments_lexer": "ipython2",
   "version": "2.7.13"
  }
 },
 "nbformat": 4,
 "nbformat_minor": 2
}
