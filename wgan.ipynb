{
 "cells": [
  {
   "cell_type": "code",
   "execution_count": 1,
   "metadata": {},
   "outputs": [
    {
     "name": "stderr",
     "output_type": "stream",
     "text": [
      "Using TensorFlow backend.\n"
     ]
    },
    {
     "name": "stdout",
     "output_type": "stream",
     "text": [
      "Populating the interactive namespace from numpy and matplotlib\n"
     ]
    }
   ],
   "source": [
    "import time\n",
    "\n",
    "import gan\n",
    "\n",
    "%pylab inline\n",
    "%load_ext autoreload\n",
    "%autoreload 2"
   ]
  },
  {
   "cell_type": "code",
   "execution_count": 2,
   "metadata": {},
   "outputs": [
    {
     "name": "stdout",
     "output_type": "stream",
     "text": [
      "_________________________________________________________________\n",
      "Layer (type)                 Output Shape              Param #   \n",
      "=================================================================\n",
      "conv2d_1 (Conv2D)            (None, 14, 14, 16)        160       \n",
      "_________________________________________________________________\n",
      "leaky_re_lu_1 (LeakyReLU)    (None, 14, 14, 16)        0         \n",
      "_________________________________________________________________\n",
      "dropout_1 (Dropout)          (None, 14, 14, 16)        0         \n",
      "_________________________________________________________________\n",
      "conv2d_2 (Conv2D)            (None, 7, 7, 32)          4640      \n",
      "_________________________________________________________________\n",
      "zero_padding2d_1 (ZeroPaddin (None, 8, 8, 32)          0         \n",
      "_________________________________________________________________\n",
      "leaky_re_lu_2 (LeakyReLU)    (None, 8, 8, 32)          0         \n",
      "_________________________________________________________________\n",
      "dropout_2 (Dropout)          (None, 8, 8, 32)          0         \n",
      "_________________________________________________________________\n",
      "batch_normalization_1 (Batch (None, 8, 8, 32)          128       \n",
      "_________________________________________________________________\n",
      "conv2d_3 (Conv2D)            (None, 4, 4, 64)          18496     \n",
      "_________________________________________________________________\n",
      "leaky_re_lu_3 (LeakyReLU)    (None, 4, 4, 64)          0         \n",
      "_________________________________________________________________\n",
      "dropout_3 (Dropout)          (None, 4, 4, 64)          0         \n",
      "_________________________________________________________________\n",
      "batch_normalization_2 (Batch (None, 4, 4, 64)          256       \n",
      "_________________________________________________________________\n",
      "conv2d_4 (Conv2D)            (None, 4, 4, 128)         73856     \n",
      "_________________________________________________________________\n",
      "leaky_re_lu_4 (LeakyReLU)    (None, 4, 4, 128)         0         \n",
      "_________________________________________________________________\n",
      "dropout_4 (Dropout)          (None, 4, 4, 128)         0         \n",
      "_________________________________________________________________\n",
      "flatten_1 (Flatten)          (None, 2048)              0         \n",
      "=================================================================\n",
      "Total params: 97,536\n",
      "Trainable params: 97,344\n",
      "Non-trainable params: 192\n",
      "_________________________________________________________________\n",
      "_________________________________________________________________\n",
      "Layer (type)                 Output Shape              Param #   \n",
      "=================================================================\n",
      "dense_2 (Dense)              (None, 6272)              633472    \n",
      "_________________________________________________________________\n",
      "reshape_1 (Reshape)          (None, 7, 7, 128)         0         \n",
      "_________________________________________________________________\n",
      "batch_normalization_3 (Batch (None, 7, 7, 128)         512       \n",
      "_________________________________________________________________\n",
      "up_sampling2d_1 (UpSampling2 (None, 14, 14, 128)       0         \n",
      "_________________________________________________________________\n",
      "conv2d_5 (Conv2D)            (None, 14, 14, 128)       262272    \n",
      "_________________________________________________________________\n",
      "activation_1 (Activation)    (None, 14, 14, 128)       0         \n",
      "_________________________________________________________________\n",
      "batch_normalization_4 (Batch (None, 14, 14, 128)       512       \n",
      "_________________________________________________________________\n",
      "up_sampling2d_2 (UpSampling2 (None, 28, 28, 128)       0         \n",
      "_________________________________________________________________\n",
      "conv2d_6 (Conv2D)            (None, 28, 28, 64)        131136    \n",
      "_________________________________________________________________\n",
      "activation_2 (Activation)    (None, 28, 28, 64)        0         \n",
      "_________________________________________________________________\n",
      "batch_normalization_5 (Batch (None, 28, 28, 64)        256       \n",
      "_________________________________________________________________\n",
      "conv2d_7 (Conv2D)            (None, 28, 28, 1)         1025      \n",
      "_________________________________________________________________\n",
      "activation_3 (Activation)    (None, 28, 28, 1)         0         \n",
      "=================================================================\n",
      "Total params: 1,029,185\n",
      "Trainable params: 1,028,545\n",
      "Non-trainable params: 640\n",
      "_________________________________________________________________\n",
      "_________________________________________________________________\n",
      "Layer (type)                 Output Shape              Param #   \n",
      "=================================================================\n",
      "input_3 (InputLayer)         (None, 100)               0         \n",
      "_________________________________________________________________\n",
      "model_2 (Model)              (None, 28, 28, 1)         1029185   \n",
      "_________________________________________________________________\n",
      "model_1 (Model)              (None, 1)                 99585     \n",
      "=================================================================\n",
      "Total params: 1,128,770\n",
      "Trainable params: 1,028,545\n",
      "Non-trainable params: 100,225\n",
      "_________________________________________________________________\n"
     ]
    }
   ],
   "source": [
    "wgan = gan.WGAN()\n",
    "wgan.setup()"
   ]
  },
  {
   "cell_type": "code",
   "execution_count": 3,
   "metadata": {
    "collapsed": true
   },
   "outputs": [],
   "source": [
    "from keras.datasets import mnist\n"
   ]
  },
  {
   "cell_type": "code",
   "execution_count": 4,
   "metadata": {
    "collapsed": true
   },
   "outputs": [],
   "source": [
    "(X_train, _), (_, _) = mnist.load_data()\n"
   ]
  },
  {
   "cell_type": "code",
   "execution_count": 5,
   "metadata": {},
   "outputs": [
    {
     "data": {
      "text/plain": [
       "(60000, 28, 28)"
      ]
     },
     "execution_count": 5,
     "metadata": {},
     "output_type": "execute_result"
    }
   ],
   "source": [
    "X_train.shape"
   ]
  },
  {
   "cell_type": "code",
   "execution_count": 6,
   "metadata": {},
   "outputs": [],
   "source": [
    "X_train = (X_train.astype(np.float32) - 127.5) / 127.5\n",
    "X_train = np.expand_dims(X_train, axis=3)"
   ]
  },
  {
   "cell_type": "code",
   "execution_count": 7,
   "metadata": {},
   "outputs": [
    {
     "data": {
      "text/plain": [
       "(60000, 28, 28, 1)"
      ]
     },
     "execution_count": 7,
     "metadata": {},
     "output_type": "execute_result"
    }
   ],
   "source": [
    "X_train.shape"
   ]
  },
  {
   "cell_type": "code",
   "execution_count": 8,
   "metadata": {},
   "outputs": [
    {
     "name": "stdout",
     "output_type": "stream",
     "text": [
      "0 [D loss: 0.999926] [G loss: 1.000208]\n",
      "1 [D loss: 0.999908] [G loss: 1.000831]\n",
      "2 [D loss: 0.999879] [G loss: 1.001374]\n",
      "3 [D loss: 0.999888] [G loss: 1.001860]\n",
      "4 [D loss: 0.999880] [G loss: 1.002327]\n",
      "5 [D loss: 0.999854] [G loss: 1.002776]\n",
      "6 [D loss: 0.999884] [G loss: 1.003248]\n",
      "7 [D loss: 0.999873] [G loss: 1.003734]\n",
      "8 [D loss: 0.999843] [G loss: 1.004150]\n",
      "9 [D loss: 0.999852] [G loss: 1.004654]\n",
      "10 [D loss: 0.999726] [G loss: 1.005093]\n",
      "11 [D loss: 0.999842] [G loss: 1.005510]\n",
      "12 [D loss: 0.999809] [G loss: 1.005904]\n",
      "13 [D loss: 0.999767] [G loss: 1.006422]\n",
      "14 [D loss: 0.999779] [G loss: 1.006880]\n",
      "15 [D loss: 0.999744] [G loss: 1.007347]\n",
      "16 [D loss: 0.999810] [G loss: 1.007732]\n",
      "17 [D loss: 0.999796] [G loss: 1.008161]\n",
      "18 [D loss: 0.999741] [G loss: 1.008720]\n",
      "19 [D loss: 0.999724] [G loss: 1.009127]\n",
      "20 [D loss: 0.999744] [G loss: 1.009503]\n",
      "21 [D loss: 0.999757] [G loss: 1.010027]\n",
      "22 [D loss: 0.999727] [G loss: 1.010564]\n",
      "23 [D loss: 0.999778] [G loss: 1.011229]\n",
      "24 [D loss: 0.999672] [G loss: 1.011651]\n",
      "25 [D loss: 0.999766] [G loss: 1.012167]\n",
      "26 [D loss: 0.999605] [G loss: 1.012703]\n",
      "27 [D loss: 0.999475] [G loss: 1.013398]\n",
      "28 [D loss: 0.999700] [G loss: 1.013767]\n",
      "29 [D loss: 0.999557] [G loss: 1.014550]\n",
      "30 [D loss: 0.999665] [G loss: 1.015081]\n",
      "31 [D loss: 0.999640] [G loss: 1.015650]\n",
      "32 [D loss: 0.999695] [G loss: 1.016285]\n",
      "33 [D loss: 0.999666] [G loss: 1.016872]\n",
      "34 [D loss: 0.999711] [G loss: 1.017535]\n",
      "35 [D loss: 0.999634] [G loss: 1.018315]\n",
      "36 [D loss: 0.999616] [G loss: 1.018970]\n",
      "37 [D loss: 0.999722] [G loss: 1.019523]\n",
      "38 [D loss: 0.999384] [G loss: 1.020494]\n",
      "39 [D loss: 0.999695] [G loss: 1.020775]\n",
      "40 [D loss: 0.999409] [G loss: 1.021419]\n",
      "41 [D loss: 0.999702] [G loss: 1.022413]\n",
      "42 [D loss: 0.999484] [G loss: 1.023039]\n",
      "43 [D loss: 0.999514] [G loss: 1.023581]\n",
      "44 [D loss: 0.999607] [G loss: 1.024433]\n",
      "45 [D loss: 0.999507] [G loss: 1.025193]\n",
      "46 [D loss: 0.999616] [G loss: 1.026163]\n",
      "47 [D loss: 0.999609] [G loss: 1.026967]\n",
      "48 [D loss: 0.999280] [G loss: 1.027643]\n",
      "49 [D loss: 0.999486] [G loss: 1.028720]\n",
      "50 [D loss: 0.999352] [G loss: 1.029392]\n",
      "51 [D loss: 0.999596] [G loss: 1.030492]\n",
      "52 [D loss: 0.999333] [G loss: 1.030860]\n",
      "53 [D loss: 0.999387] [G loss: 1.031726]\n",
      "54 [D loss: 0.999468] [G loss: 1.032833]\n",
      "55 [D loss: 0.999320] [G loss: 1.033932]\n",
      "56 [D loss: 0.999368] [G loss: 1.034459]\n",
      "57 [D loss: 0.999612] [G loss: 1.035319]\n",
      "58 [D loss: 0.999252] [G loss: 1.036549]\n",
      "59 [D loss: 0.999219] [G loss: 1.037152]\n",
      "60 [D loss: 0.999484] [G loss: 1.038323]\n",
      "61 [D loss: 0.999411] [G loss: 1.039326]\n",
      "62 [D loss: 0.999508] [G loss: 1.040204]\n",
      "63 [D loss: 0.999620] [G loss: 1.041252]\n",
      "64 [D loss: 0.999309] [G loss: 1.042276]\n",
      "65 [D loss: 0.999310] [G loss: 1.043406]\n",
      "66 [D loss: 0.999329] [G loss: 1.044505]\n",
      "67 [D loss: 0.999378] [G loss: 1.045941]\n",
      "68 [D loss: 0.999286] [G loss: 1.046657]\n",
      "69 [D loss: 0.999325] [G loss: 1.047760]\n",
      "70 [D loss: 0.999053] [G loss: 1.048908]\n",
      "71 [D loss: 0.999377] [G loss: 1.049616]\n",
      "72 [D loss: 0.999163] [G loss: 1.051038]\n",
      "73 [D loss: 0.999342] [G loss: 1.052160]\n",
      "74 [D loss: 0.999516] [G loss: 1.053398]\n",
      "75 [D loss: 0.999485] [G loss: 1.054616]\n",
      "76 [D loss: 0.998918] [G loss: 1.055720]\n",
      "77 [D loss: 0.999591] [G loss: 1.056687]\n",
      "78 [D loss: 0.999221] [G loss: 1.057678]\n",
      "79 [D loss: 0.999378] [G loss: 1.059742]\n",
      "80 [D loss: 0.999242] [G loss: 1.061094]\n",
      "81 [D loss: 0.999160] [G loss: 1.062062]\n",
      "82 [D loss: 1.000088] [G loss: 1.063845]\n",
      "83 [D loss: 0.999119] [G loss: 1.064686]\n",
      "84 [D loss: 0.999143] [G loss: 1.066276]\n",
      "85 [D loss: 0.998943] [G loss: 1.067580]\n",
      "86 [D loss: 0.998545] [G loss: 1.068941]\n",
      "87 [D loss: 0.999138] [G loss: 1.069491]\n",
      "88 [D loss: 0.998678] [G loss: 1.071709]\n",
      "89 [D loss: 0.998936] [G loss: 1.073104]\n",
      "90 [D loss: 0.998895] [G loss: 1.074064]\n",
      "91 [D loss: 0.999141] [G loss: 1.075959]\n",
      "92 [D loss: 0.999187] [G loss: 1.077514]\n",
      "93 [D loss: 0.999394] [G loss: 1.079508]\n",
      "94 [D loss: 0.998541] [G loss: 1.080220]\n",
      "95 [D loss: 0.999224] [G loss: 1.082128]\n",
      "96 [D loss: 0.998870] [G loss: 1.083845]\n",
      "97 [D loss: 0.998710] [G loss: 1.085122]\n",
      "98 [D loss: 0.999229] [G loss: 1.086607]\n",
      "99 [D loss: 0.999333] [G loss: 1.088391]\n",
      "100 [D loss: 0.998714] [G loss: 1.089631]\n",
      "101 [D loss: 0.999043] [G loss: 1.091266]\n",
      "102 [D loss: 0.998650] [G loss: 1.092682]\n",
      "103 [D loss: 0.998832] [G loss: 1.094147]\n",
      "104 [D loss: 0.998528] [G loss: 1.096291]\n",
      "105 [D loss: 0.998799] [G loss: 1.097921]\n",
      "106 [D loss: 0.999857] [G loss: 1.100079]\n",
      "107 [D loss: 0.998906] [G loss: 1.101333]\n",
      "108 [D loss: 0.998972] [G loss: 1.103400]\n",
      "109 [D loss: 0.998676] [G loss: 1.104894]\n",
      "110 [D loss: 0.998609] [G loss: 1.106555]\n",
      "111 [D loss: 0.999472] [G loss: 1.108248]\n",
      "112 [D loss: 0.998869] [G loss: 1.110639]\n",
      "113 [D loss: 0.999374] [G loss: 1.112089]\n",
      "114 [D loss: 0.998785] [G loss: 1.113688]\n",
      "115 [D loss: 0.997882] [G loss: 1.114763]\n",
      "116 [D loss: 0.998451] [G loss: 1.117825]\n",
      "117 [D loss: 0.998699] [G loss: 1.119400]\n",
      "118 [D loss: 0.999853] [G loss: 1.120891]\n",
      "119 [D loss: 0.998527] [G loss: 1.122980]\n",
      "120 [D loss: 0.999380] [G loss: 1.125374]\n",
      "121 [D loss: 0.999023] [G loss: 1.127138]\n",
      "122 [D loss: 0.998671] [G loss: 1.129999]\n",
      "123 [D loss: 0.998918] [G loss: 1.131293]\n",
      "124 [D loss: 0.999148] [G loss: 1.132962]\n",
      "125 [D loss: 0.998325] [G loss: 1.135283]\n",
      "126 [D loss: 0.998626] [G loss: 1.137022]\n",
      "127 [D loss: 0.998415] [G loss: 1.139746]\n",
      "128 [D loss: 0.998436] [G loss: 1.141945]\n",
      "129 [D loss: 0.998252] [G loss: 1.143976]\n",
      "130 [D loss: 0.999232] [G loss: 1.145889]\n",
      "131 [D loss: 0.998271] [G loss: 1.147765]\n",
      "132 [D loss: 0.998914] [G loss: 1.151416]\n",
      "133 [D loss: 0.997927] [G loss: 1.152562]\n",
      "134 [D loss: 0.999292] [G loss: 1.154768]\n",
      "135 [D loss: 0.999105] [G loss: 1.156484]\n",
      "136 [D loss: 0.998783] [G loss: 1.159325]\n",
      "137 [D loss: 0.998702] [G loss: 1.161070]\n",
      "138 [D loss: 0.998262] [G loss: 1.161941]\n",
      "139 [D loss: 0.997574] [G loss: 1.165923]\n",
      "140 [D loss: 0.999336] [G loss: 1.168150]\n",
      "141 [D loss: 0.999018] [G loss: 1.171768]\n",
      "142 [D loss: 0.997826] [G loss: 1.173242]\n",
      "143 [D loss: 0.998652] [G loss: 1.175066]\n",
      "144 [D loss: 0.998437] [G loss: 1.177233]\n",
      "145 [D loss: 0.998224] [G loss: 1.180242]\n",
      "146 [D loss: 0.997882] [G loss: 1.181624]\n",
      "147 [D loss: 0.998261] [G loss: 1.183951]\n",
      "148 [D loss: 0.998809] [G loss: 1.187661]\n",
      "149 [D loss: 0.997867] [G loss: 1.188684]\n"
     ]
    },
    {
     "ename": "KeyboardInterrupt",
     "evalue": "",
     "output_type": "error",
     "traceback": [
      "\u001b[0;31m---------------------------------------------------------------------------\u001b[0m",
      "\u001b[0;31mKeyboardInterrupt\u001b[0m                         Traceback (most recent call last)",
      "\u001b[0;32m<ipython-input-8-0d59e8ff777e>\u001b[0m in \u001b[0;36m<module>\u001b[0;34m()\u001b[0m\n\u001b[0;32m----> 1\u001b[0;31m \u001b[0mwgan\u001b[0m\u001b[0;34m.\u001b[0m\u001b[0mtrain\u001b[0m\u001b[0;34m(\u001b[0m\u001b[0mX_train\u001b[0m\u001b[0;34m)\u001b[0m\u001b[0;34m\u001b[0m\u001b[0m\n\u001b[0m",
      "\u001b[0;32m/home/d/Projects/ILYBOS/gan/wgan.py\u001b[0m in \u001b[0;36mtrain\u001b[0;34m(self, X_train)\u001b[0m\n\u001b[1;32m    100\u001b[0m             \u001b[0mweights\u001b[0m \u001b[0;34m=\u001b[0m \u001b[0ml\u001b[0m\u001b[0;34m.\u001b[0m\u001b[0mget_weights\u001b[0m\u001b[0;34m(\u001b[0m\u001b[0;34m)\u001b[0m\u001b[0;34m\u001b[0m\u001b[0m\n\u001b[1;32m    101\u001b[0m             \u001b[0mweights\u001b[0m \u001b[0;34m=\u001b[0m \u001b[0;34m[\u001b[0m\u001b[0mnp\u001b[0m\u001b[0;34m.\u001b[0m\u001b[0mclip\u001b[0m\u001b[0;34m(\u001b[0m\u001b[0mw\u001b[0m\u001b[0;34m,\u001b[0m \u001b[0;34m-\u001b[0m\u001b[0mself\u001b[0m\u001b[0;34m.\u001b[0m\u001b[0m_clip_value\u001b[0m\u001b[0;34m,\u001b[0m \u001b[0mself\u001b[0m\u001b[0;34m.\u001b[0m\u001b[0m_clip_value\u001b[0m\u001b[0;34m)\u001b[0m \u001b[0;32mfor\u001b[0m \u001b[0mw\u001b[0m \u001b[0;32min\u001b[0m \u001b[0mweights\u001b[0m\u001b[0;34m]\u001b[0m\u001b[0;34m\u001b[0m\u001b[0m\n\u001b[0;32m--> 102\u001b[0;31m             \u001b[0ml\u001b[0m\u001b[0;34m.\u001b[0m\u001b[0mset_weights\u001b[0m\u001b[0;34m(\u001b[0m\u001b[0mweights\u001b[0m\u001b[0;34m)\u001b[0m\u001b[0;34m\u001b[0m\u001b[0m\n\u001b[0m\u001b[1;32m    103\u001b[0m \u001b[0;34m\u001b[0m\u001b[0m\n\u001b[1;32m    104\u001b[0m \u001b[0;34m\u001b[0m\u001b[0m\n",
      "\u001b[0;32m/home/d/anaconda2/envs/KERAS/lib/python2.7/site-packages/keras/engine/topology.pyc\u001b[0m in \u001b[0;36mset_weights\u001b[0;34m(self, weights)\u001b[0m\n\u001b[1;32m   1182\u001b[0m             \u001b[0;32mreturn\u001b[0m\u001b[0;34m\u001b[0m\u001b[0m\n\u001b[1;32m   1183\u001b[0m         \u001b[0mweight_value_tuples\u001b[0m \u001b[0;34m=\u001b[0m \u001b[0;34m[\u001b[0m\u001b[0;34m]\u001b[0m\u001b[0;34m\u001b[0m\u001b[0m\n\u001b[0;32m-> 1184\u001b[0;31m         \u001b[0mparam_values\u001b[0m \u001b[0;34m=\u001b[0m \u001b[0mK\u001b[0m\u001b[0;34m.\u001b[0m\u001b[0mbatch_get_value\u001b[0m\u001b[0;34m(\u001b[0m\u001b[0mparams\u001b[0m\u001b[0;34m)\u001b[0m\u001b[0;34m\u001b[0m\u001b[0m\n\u001b[0m\u001b[1;32m   1185\u001b[0m         \u001b[0;32mfor\u001b[0m \u001b[0mpv\u001b[0m\u001b[0;34m,\u001b[0m \u001b[0mp\u001b[0m\u001b[0;34m,\u001b[0m \u001b[0mw\u001b[0m \u001b[0;32min\u001b[0m \u001b[0mzip\u001b[0m\u001b[0;34m(\u001b[0m\u001b[0mparam_values\u001b[0m\u001b[0;34m,\u001b[0m \u001b[0mparams\u001b[0m\u001b[0;34m,\u001b[0m \u001b[0mweights\u001b[0m\u001b[0;34m)\u001b[0m\u001b[0;34m:\u001b[0m\u001b[0;34m\u001b[0m\u001b[0m\n\u001b[1;32m   1186\u001b[0m             \u001b[0;32mif\u001b[0m \u001b[0mpv\u001b[0m\u001b[0;34m.\u001b[0m\u001b[0mshape\u001b[0m \u001b[0;34m!=\u001b[0m \u001b[0mw\u001b[0m\u001b[0;34m.\u001b[0m\u001b[0mshape\u001b[0m\u001b[0;34m:\u001b[0m\u001b[0;34m\u001b[0m\u001b[0m\n",
      "\u001b[0;32m/home/d/anaconda2/envs/KERAS/lib/python2.7/site-packages/keras/backend/tensorflow_backend.pyc\u001b[0m in \u001b[0;36mbatch_get_value\u001b[0;34m(ops)\u001b[0m\n\u001b[1;32m   2137\u001b[0m     \"\"\"\n\u001b[1;32m   2138\u001b[0m     \u001b[0;32mif\u001b[0m \u001b[0mops\u001b[0m\u001b[0;34m:\u001b[0m\u001b[0;34m\u001b[0m\u001b[0m\n\u001b[0;32m-> 2139\u001b[0;31m         \u001b[0;32mreturn\u001b[0m \u001b[0mget_session\u001b[0m\u001b[0;34m(\u001b[0m\u001b[0;34m)\u001b[0m\u001b[0;34m.\u001b[0m\u001b[0mrun\u001b[0m\u001b[0;34m(\u001b[0m\u001b[0mops\u001b[0m\u001b[0;34m)\u001b[0m\u001b[0;34m\u001b[0m\u001b[0m\n\u001b[0m\u001b[1;32m   2140\u001b[0m     \u001b[0;32melse\u001b[0m\u001b[0;34m:\u001b[0m\u001b[0;34m\u001b[0m\u001b[0m\n\u001b[1;32m   2141\u001b[0m         \u001b[0;32mreturn\u001b[0m \u001b[0;34m[\u001b[0m\u001b[0;34m]\u001b[0m\u001b[0;34m\u001b[0m\u001b[0m\n",
      "\u001b[0;32m/home/d/anaconda2/envs/KERAS/lib/python2.7/site-packages/tensorflow/python/client/session.pyc\u001b[0m in \u001b[0;36mrun\u001b[0;34m(self, fetches, feed_dict, options, run_metadata)\u001b[0m\n\u001b[1;32m    893\u001b[0m     \u001b[0;32mtry\u001b[0m\u001b[0;34m:\u001b[0m\u001b[0;34m\u001b[0m\u001b[0m\n\u001b[1;32m    894\u001b[0m       result = self._run(None, fetches, feed_dict, options_ptr,\n\u001b[0;32m--> 895\u001b[0;31m                          run_metadata_ptr)\n\u001b[0m\u001b[1;32m    896\u001b[0m       \u001b[0;32mif\u001b[0m \u001b[0mrun_metadata\u001b[0m\u001b[0;34m:\u001b[0m\u001b[0;34m\u001b[0m\u001b[0m\n\u001b[1;32m    897\u001b[0m         \u001b[0mproto_data\u001b[0m \u001b[0;34m=\u001b[0m \u001b[0mtf_session\u001b[0m\u001b[0;34m.\u001b[0m\u001b[0mTF_GetBuffer\u001b[0m\u001b[0;34m(\u001b[0m\u001b[0mrun_metadata_ptr\u001b[0m\u001b[0;34m)\u001b[0m\u001b[0;34m\u001b[0m\u001b[0m\n",
      "\u001b[0;32m/home/d/anaconda2/envs/KERAS/lib/python2.7/site-packages/tensorflow/python/client/session.pyc\u001b[0m in \u001b[0;36m_run\u001b[0;34m(self, handle, fetches, feed_dict, options, run_metadata)\u001b[0m\n\u001b[1;32m   1122\u001b[0m     \u001b[0;32mif\u001b[0m \u001b[0mfinal_fetches\u001b[0m \u001b[0;32mor\u001b[0m \u001b[0mfinal_targets\u001b[0m \u001b[0;32mor\u001b[0m \u001b[0;34m(\u001b[0m\u001b[0mhandle\u001b[0m \u001b[0;32mand\u001b[0m \u001b[0mfeed_dict_tensor\u001b[0m\u001b[0;34m)\u001b[0m\u001b[0;34m:\u001b[0m\u001b[0;34m\u001b[0m\u001b[0m\n\u001b[1;32m   1123\u001b[0m       results = self._do_run(handle, final_targets, final_fetches,\n\u001b[0;32m-> 1124\u001b[0;31m                              feed_dict_tensor, options, run_metadata)\n\u001b[0m\u001b[1;32m   1125\u001b[0m     \u001b[0;32melse\u001b[0m\u001b[0;34m:\u001b[0m\u001b[0;34m\u001b[0m\u001b[0m\n\u001b[1;32m   1126\u001b[0m       \u001b[0mresults\u001b[0m \u001b[0;34m=\u001b[0m \u001b[0;34m[\u001b[0m\u001b[0;34m]\u001b[0m\u001b[0;34m\u001b[0m\u001b[0m\n",
      "\u001b[0;32m/home/d/anaconda2/envs/KERAS/lib/python2.7/site-packages/tensorflow/python/client/session.pyc\u001b[0m in \u001b[0;36m_do_run\u001b[0;34m(self, handle, target_list, fetch_list, feed_dict, options, run_metadata)\u001b[0m\n\u001b[1;32m   1319\u001b[0m     \u001b[0;32mif\u001b[0m \u001b[0mhandle\u001b[0m \u001b[0;32mis\u001b[0m \u001b[0mNone\u001b[0m\u001b[0;34m:\u001b[0m\u001b[0;34m\u001b[0m\u001b[0m\n\u001b[1;32m   1320\u001b[0m       return self._do_call(_run_fn, self._session, feeds, fetches, targets,\n\u001b[0;32m-> 1321\u001b[0;31m                            options, run_metadata)\n\u001b[0m\u001b[1;32m   1322\u001b[0m     \u001b[0;32melse\u001b[0m\u001b[0;34m:\u001b[0m\u001b[0;34m\u001b[0m\u001b[0m\n\u001b[1;32m   1323\u001b[0m       \u001b[0;32mreturn\u001b[0m \u001b[0mself\u001b[0m\u001b[0;34m.\u001b[0m\u001b[0m_do_call\u001b[0m\u001b[0;34m(\u001b[0m\u001b[0m_prun_fn\u001b[0m\u001b[0;34m,\u001b[0m \u001b[0mself\u001b[0m\u001b[0;34m.\u001b[0m\u001b[0m_session\u001b[0m\u001b[0;34m,\u001b[0m \u001b[0mhandle\u001b[0m\u001b[0;34m,\u001b[0m \u001b[0mfeeds\u001b[0m\u001b[0;34m,\u001b[0m \u001b[0mfetches\u001b[0m\u001b[0;34m)\u001b[0m\u001b[0;34m\u001b[0m\u001b[0m\n",
      "\u001b[0;32m/home/d/anaconda2/envs/KERAS/lib/python2.7/site-packages/tensorflow/python/client/session.pyc\u001b[0m in \u001b[0;36m_do_call\u001b[0;34m(self, fn, *args)\u001b[0m\n\u001b[1;32m   1325\u001b[0m   \u001b[0;32mdef\u001b[0m \u001b[0m_do_call\u001b[0m\u001b[0;34m(\u001b[0m\u001b[0mself\u001b[0m\u001b[0;34m,\u001b[0m \u001b[0mfn\u001b[0m\u001b[0;34m,\u001b[0m \u001b[0;34m*\u001b[0m\u001b[0margs\u001b[0m\u001b[0;34m)\u001b[0m\u001b[0;34m:\u001b[0m\u001b[0;34m\u001b[0m\u001b[0m\n\u001b[1;32m   1326\u001b[0m     \u001b[0;32mtry\u001b[0m\u001b[0;34m:\u001b[0m\u001b[0;34m\u001b[0m\u001b[0m\n\u001b[0;32m-> 1327\u001b[0;31m       \u001b[0;32mreturn\u001b[0m \u001b[0mfn\u001b[0m\u001b[0;34m(\u001b[0m\u001b[0;34m*\u001b[0m\u001b[0margs\u001b[0m\u001b[0;34m)\u001b[0m\u001b[0;34m\u001b[0m\u001b[0m\n\u001b[0m\u001b[1;32m   1328\u001b[0m     \u001b[0;32mexcept\u001b[0m \u001b[0merrors\u001b[0m\u001b[0;34m.\u001b[0m\u001b[0mOpError\u001b[0m \u001b[0;32mas\u001b[0m \u001b[0me\u001b[0m\u001b[0;34m:\u001b[0m\u001b[0;34m\u001b[0m\u001b[0m\n\u001b[1;32m   1329\u001b[0m       \u001b[0mmessage\u001b[0m \u001b[0;34m=\u001b[0m \u001b[0mcompat\u001b[0m\u001b[0;34m.\u001b[0m\u001b[0mas_text\u001b[0m\u001b[0;34m(\u001b[0m\u001b[0me\u001b[0m\u001b[0;34m.\u001b[0m\u001b[0mmessage\u001b[0m\u001b[0;34m)\u001b[0m\u001b[0;34m\u001b[0m\u001b[0m\n",
      "\u001b[0;32m/home/d/anaconda2/envs/KERAS/lib/python2.7/site-packages/tensorflow/python/client/session.pyc\u001b[0m in \u001b[0;36m_run_fn\u001b[0;34m(session, feed_dict, fetch_list, target_list, options, run_metadata)\u001b[0m\n\u001b[1;32m   1304\u001b[0m           return tf_session.TF_Run(session, options,\n\u001b[1;32m   1305\u001b[0m                                    \u001b[0mfeed_dict\u001b[0m\u001b[0;34m,\u001b[0m \u001b[0mfetch_list\u001b[0m\u001b[0;34m,\u001b[0m \u001b[0mtarget_list\u001b[0m\u001b[0;34m,\u001b[0m\u001b[0;34m\u001b[0m\u001b[0m\n\u001b[0;32m-> 1306\u001b[0;31m                                    status, run_metadata)\n\u001b[0m\u001b[1;32m   1307\u001b[0m \u001b[0;34m\u001b[0m\u001b[0m\n\u001b[1;32m   1308\u001b[0m     \u001b[0;32mdef\u001b[0m \u001b[0m_prun_fn\u001b[0m\u001b[0;34m(\u001b[0m\u001b[0msession\u001b[0m\u001b[0;34m,\u001b[0m \u001b[0mhandle\u001b[0m\u001b[0;34m,\u001b[0m \u001b[0mfeed_dict\u001b[0m\u001b[0;34m,\u001b[0m \u001b[0mfetch_list\u001b[0m\u001b[0;34m)\u001b[0m\u001b[0;34m:\u001b[0m\u001b[0;34m\u001b[0m\u001b[0m\n",
      "\u001b[0;31mKeyboardInterrupt\u001b[0m: "
     ]
    }
   ],
   "source": [
    "wgan.train(X_train)"
   ]
  },
  {
   "cell_type": "code",
   "execution_count": null,
   "metadata": {
    "collapsed": true
   },
   "outputs": [],
   "source": []
  }
 ],
 "metadata": {
  "kernelspec": {
   "display_name": "Python 2",
   "language": "python",
   "name": "python2"
  },
  "language_info": {
   "codemirror_mode": {
    "name": "ipython",
    "version": 2
   },
   "file_extension": ".py",
   "mimetype": "text/x-python",
   "name": "python",
   "nbconvert_exporter": "python",
   "pygments_lexer": "ipython2",
   "version": "2.7.13"
  }
 },
 "nbformat": 4,
 "nbformat_minor": 2
}
